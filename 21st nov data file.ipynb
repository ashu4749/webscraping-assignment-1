{
 "cells": [
  {
   "cell_type": "markdown",
   "id": "9f8503cc",
   "metadata": {},
   "source": [
    "# string format"
   ]
  },
  {
   "cell_type": "markdown",
   "id": "c3fadf6b",
   "metadata": {},
   "source": [
    "python uses C-style string formatting to create new, formatted strings. The \"%\"operator is used to format a set of variables enclosed in a \"tuple\"(a fixed size list), toghter with a format string, which contains noormal text toghter with \" argument specifiers\", special symbols like \"%s\" and \"%d\"."
   ]
  },
  {
   "cell_type": "code",
   "execution_count": 4,
   "id": "56940548",
   "metadata": {},
   "outputs": [
    {
     "name": "stdout",
     "output_type": "stream",
     "text": [
      "hello, marutui!\n"
     ]
    }
   ],
   "source": [
    "#this prints out \"hello , maruti!\"\n",
    "name = \"marutui\"\n",
    "print(\"hello, %s!\" % name)"
   ]
  },
  {
   "cell_type": "code",
   "execution_count": 5,
   "id": "b65b95da",
   "metadata": {},
   "outputs": [
    {
     "name": "stdout",
     "output_type": "stream",
     "text": [
      "hello, ajay!\n"
     ]
    }
   ],
   "source": [
    "#this print out \" hello, ajay!\"\n",
    "name = \"ajay\"\n",
    "print(\"hello, %s!\" % name)"
   ]
  },
  {
   "cell_type": "code",
   "execution_count": 5,
   "id": "64cbd264",
   "metadata": {},
   "outputs": [
    {
     "name": "stdout",
     "output_type": "stream",
     "text": [
      "hello, marutui !\n"
     ]
    }
   ],
   "source": [
    "print(\"hello,\",name,\"!\")"
   ]
  },
  {
   "cell_type": "code",
   "execution_count": 6,
   "id": "2ff2a734",
   "metadata": {},
   "outputs": [
    {
     "name": "stdout",
     "output_type": "stream",
     "text": [
      "maruti is 23 years old.\n"
     ]
    }
   ],
   "source": [
    "#this prints out \"maruti is 23 years old.\"\n",
    "name = \"maruti\"\n",
    "age = 23\n",
    "print(\"%s is %d years old.\" % (name, age))"
   ]
  },
  {
   "cell_type": "code",
   "execution_count": 6,
   "id": "8f6db527",
   "metadata": {},
   "outputs": [
    {
     "name": "stdout",
     "output_type": "stream",
     "text": [
      "ajay is 23 years old\n"
     ]
    }
   ],
   "source": [
    "#this prints out \"ajay is 23 years old.\"\n",
    "name = \"ajay\"\n",
    "age = 23\n",
    "print(\"%s is %d years old\" % (name,age))"
   ]
  },
  {
   "cell_type": "code",
   "execution_count": 7,
   "id": "76b79fdd",
   "metadata": {},
   "outputs": [
    {
     "name": "stdout",
     "output_type": "stream",
     "text": [
      " i have apple and lemons\n"
     ]
    }
   ],
   "source": [
    "x=\"apple\"\n",
    "y=\"lemons\"\n",
    "z=\" i have %s and %s\" %(x,y)\n",
    "print(z)"
   ]
  },
  {
   "cell_type": "code",
   "execution_count": 7,
   "id": "8448c2ff",
   "metadata": {},
   "outputs": [
    {
     "name": "stdout",
     "output_type": "stream",
     "text": [
      " i have banana and chikuu\n"
     ]
    }
   ],
   "source": [
    "x=\"banana\"\n",
    "y=\"chikuu\"\n",
    "z=\" i have %s and %s\" %(x,y)\n",
    "print(z)"
   ]
  },
  {
   "cell_type": "code",
   "execution_count": 13,
   "id": "a15c9d83",
   "metadata": {},
   "outputs": [
    {
     "name": "stdout",
     "output_type": "stream",
     "text": [
      " i have banana and chikuu.\n"
     ]
    }
   ],
   "source": [
    "#use dot(.)format\n",
    "x=\"banana\"\n",
    "y=\"chikuu\"\n",
    "z=\" i have {} and {}.\".format(x,y)\n",
    "print(z)"
   ]
  },
  {
   "cell_type": "code",
   "execution_count": 9,
   "id": "8c7a6f55",
   "metadata": {},
   "outputs": [
    {
     "name": "stdout",
     "output_type": "stream",
     "text": [
      "his name is ajay he is 23 years old.\n"
     ]
    }
   ],
   "source": [
    "#this prints out \"ajay is 23 years old.\" # string and .(dot) format\n",
    "name = \"ajay\"\n",
    "age = 23\n",
    "print(\"his name is {} he is {} years old.\".format(name,age))"
   ]
  },
  {
   "cell_type": "code",
   "execution_count": 11,
   "id": "cdfb969c",
   "metadata": {},
   "outputs": [
    {
     "name": "stdout",
     "output_type": "stream",
     "text": [
      "she name isashu she is 25 years old.\n"
     ]
    }
   ],
   "source": [
    "#this prints out \"ashu is 23 years old.\" # string and .(dot) format\n",
    "name = \"ashu\"\n",
    "age = 25\n",
    "print(\"she name is{} she is {} years old.\".format(name,age))"
   ]
  },
  {
   "cell_type": "code",
   "execution_count": 15,
   "id": "e3a65439",
   "metadata": {},
   "outputs": [
    {
     "name": "stdout",
     "output_type": "stream",
     "text": [
      "apple and banana\n",
      "banana and apple\n"
     ]
    }
   ],
   "source": [
    "print('{0} and {1}'.format('apple','banana'))\n",
    "print('{1} and {0}'.format('apple','banana'))"
   ]
  },
  {
   "cell_type": "markdown",
   "id": "a5349006",
   "metadata": {},
   "source": [
    "# basic function "
   ]
  },
  {
   "cell_type": "raw",
   "id": "f165d457",
   "metadata": {},
   "source": [
    "1) in- built perdefined function\n",
    "2) user perdefined function\n",
    "3)anorymous(lambda)function"
   ]
  },
  {
   "cell_type": "raw",
   "id": "d9fccdec",
   "metadata": {},
   "source": [
    "built in functions------------\n",
    "\n",
    "https://docs.python.org/3/library/functions.html"
   ]
  },
  {
   "cell_type": "code",
   "execution_count": null,
   "id": "2498ee31",
   "metadata": {},
   "outputs": [],
   "source": [
    "help(),print(),int(),float(),str(),type(),range(),min(),max(),len(),input(),list()"
   ]
  },
  {
   "cell_type": "code",
   "execution_count": 23,
   "id": "9e90da1c",
   "metadata": {},
   "outputs": [
    {
     "name": "stdout",
     "output_type": "stream",
     "text": [
      "\n",
      "Welcome to Python 3.8's help utility!\n",
      "\n",
      "If this is your first time using Python, you should definitely check out\n",
      "the tutorial on the Internet at https://docs.python.org/3.8/tutorial/.\n",
      "\n",
      "Enter the name of any module, keyword, or topic to get help on writing\n",
      "Python programs and using Python modules.  To quit this help utility and\n",
      "return to the interpreter, just type \"quit\".\n",
      "\n",
      "To get a list of available modules, keywords, symbols, or topics, type\n",
      "\"modules\", \"keywords\", \"symbols\", or \"topics\".  Each module also comes\n",
      "with a one-line summary of what it does; to list the modules whose name\n",
      "or summary contain a given string such as \"spam\", type \"modules spam\".\n",
      "\n",
      "help> keywords\n",
      "\n",
      "Here is a list of the Python keywords.  Enter any keyword to get more help.\n",
      "\n",
      "False               class               from                or\n",
      "None                continue            global              pass\n",
      "True                def                 if                  raise\n",
      "and                 del                 import              return\n",
      "as                  elif                in                  try\n",
      "assert              else                is                  while\n",
      "async               except              lambda              with\n",
      "await               finally             nonlocal            yield\n",
      "break               for                 not                 \n",
      "\n",
      "\n",
      "You are now leaving help and returning to the Python interpreter.\n",
      "If you want to ask for help on a particular object directly from the\n",
      "interpreter, you can type \"help(object)\".  Executing \"help('string')\"\n",
      "has the same effect as typing a particular string at the help> prompt.\n"
     ]
    }
   ],
   "source": [
    "help()"
   ]
  },
  {
   "cell_type": "code",
   "execution_count": 24,
   "id": "ac0710df",
   "metadata": {},
   "outputs": [
    {
     "name": "stdout",
     "output_type": "stream",
     "text": [
      "Help on built-in function len in module builtins:\n",
      "\n",
      "len(obj, /)\n",
      "    Return the number of items in a container.\n",
      "\n"
     ]
    }
   ],
   "source": [
    "help(len)"
   ]
  },
  {
   "cell_type": "code",
   "execution_count": 25,
   "id": "72f1650a",
   "metadata": {},
   "outputs": [
    {
     "data": {
      "text/plain": [
       "22"
      ]
     },
     "execution_count": 25,
     "metadata": {},
     "output_type": "execute_result"
    }
   ],
   "source": [
    "k=[40,90,22,78,88,44,67]\n",
    "min(k)"
   ]
  },
  {
   "cell_type": "code",
   "execution_count": 26,
   "id": "5c9b8ab1",
   "metadata": {},
   "outputs": [
    {
     "data": {
      "text/plain": [
       "90"
      ]
     },
     "execution_count": 26,
     "metadata": {},
     "output_type": "execute_result"
    }
   ],
   "source": [
    "max(k)"
   ]
  },
  {
   "cell_type": "markdown",
   "id": "0a7a30af",
   "metadata": {},
   "source": [
    "# user defined()"
   ]
  },
  {
   "cell_type": "code",
   "execution_count": 27,
   "id": "a3fc00bf",
   "metadata": {},
   "outputs": [],
   "source": [
    "# function definition"
   ]
  },
  {
   "cell_type": "code",
   "execution_count": 28,
   "id": "ff2abd45",
   "metadata": {},
   "outputs": [],
   "source": [
    "def function1():\n",
    "    print(\"hello maruti\")"
   ]
  },
  {
   "cell_type": "code",
   "execution_count": 29,
   "id": "ce6d4a71",
   "metadata": {},
   "outputs": [
    {
     "name": "stdout",
     "output_type": "stream",
     "text": [
      "hello maruti\n"
     ]
    }
   ],
   "source": [
    "#function calling\n",
    "function1()"
   ]
  },
  {
   "cell_type": "code",
   "execution_count": 30,
   "id": "3e0c9406",
   "metadata": {},
   "outputs": [],
   "source": [
    "def function2():\n",
    "    print(\"hii i am doing data sceince course\")"
   ]
  },
  {
   "cell_type": "code",
   "execution_count": 31,
   "id": "8f0fe4fa",
   "metadata": {},
   "outputs": [
    {
     "name": "stdout",
     "output_type": "stream",
     "text": [
      "hii i am doing data sceince course\n"
     ]
    }
   ],
   "source": [
    "function2()"
   ]
  },
  {
   "cell_type": "code",
   "execution_count": 32,
   "id": "f3a8a48e",
   "metadata": {},
   "outputs": [],
   "source": [
    "def addfunction():\n",
    "    a=10\n",
    "    b=20\n",
    "    c=a+b\n",
    "    print(\"addition of a and b=\",c)\n"
   ]
  },
  {
   "cell_type": "code",
   "execution_count": 33,
   "id": "c5045be3",
   "metadata": {},
   "outputs": [
    {
     "name": "stdout",
     "output_type": "stream",
     "text": [
      "addition of a and b= 30\n"
     ]
    }
   ],
   "source": [
    "#addfunction calling\n",
    "addfunction()"
   ]
  },
  {
   "cell_type": "code",
   "execution_count": 36,
   "id": "84485083",
   "metadata": {},
   "outputs": [],
   "source": [
    "def multiplyfunction():\n",
    "    x=5\n",
    "    y=4\n",
    "    z=x*y\n",
    "    print(\"multiply of x and y=\",z)"
   ]
  },
  {
   "cell_type": "code",
   "execution_count": 37,
   "id": "ab04fb04",
   "metadata": {},
   "outputs": [
    {
     "name": "stdout",
     "output_type": "stream",
     "text": [
      "multiply of x and y= 20\n"
     ]
    }
   ],
   "source": [
    "#multiplyfunction calling\n",
    "multiplyfunction()"
   ]
  },
  {
   "cell_type": "code",
   "execution_count": 38,
   "id": "6269608a",
   "metadata": {},
   "outputs": [],
   "source": [
    "def concatfunction():\n",
    "    string1=\"data\"\n",
    "    string2=\"science\"\n",
    "    print(string1+string2)"
   ]
  },
  {
   "cell_type": "code",
   "execution_count": 39,
   "id": "1d714e83",
   "metadata": {},
   "outputs": [
    {
     "name": "stdout",
     "output_type": "stream",
     "text": [
      "datascience\n"
     ]
    }
   ],
   "source": [
    "concatfunction()"
   ]
  },
  {
   "cell_type": "code",
   "execution_count": 2,
   "id": "e063770d",
   "metadata": {},
   "outputs": [],
   "source": [
    "def concatfunction():\n",
    "    string1=\"data\"\n",
    "    string2=\"science\"\n",
    "    print(\"string concatenation =\")\n",
    "    print(string1+string2)"
   ]
  },
  {
   "cell_type": "code",
   "execution_count": 9,
   "id": "eb11da76",
   "metadata": {},
   "outputs": [],
   "source": [
    "#jar datascience mdy gayp hav tr do \n",
    "def concatfunction():\n",
    "    string1=\"data\"\n",
    "    string2=\"science\"\n",
    "    print(\"string concatenation =\")\n",
    "    print(string1+\" \"+string2)"
   ]
  },
  {
   "cell_type": "code",
   "execution_count": 10,
   "id": "048d28ec",
   "metadata": {},
   "outputs": [
    {
     "name": "stdout",
     "output_type": "stream",
     "text": [
      "string concatenation =\n",
      "data science\n"
     ]
    }
   ],
   "source": [
    "concatfunction()"
   ]
  },
  {
   "cell_type": "code",
   "execution_count": 5,
   "id": "25aa00cd",
   "metadata": {},
   "outputs": [],
   "source": [
    "def area_of_rectangle_function():\n",
    "    a=70\n",
    "    b=8\n",
    "    c=a*b\n",
    "    print(\" area of rectangle =\",c)"
   ]
  },
  {
   "cell_type": "code",
   "execution_count": 7,
   "id": "9512c695",
   "metadata": {},
   "outputs": [
    {
     "name": "stdout",
     "output_type": "stream",
     "text": [
      " area of rectangle = 560\n"
     ]
    }
   ],
   "source": [
    "area_of_rectangle_function()"
   ]
  },
  {
   "cell_type": "code",
   "execution_count": 8,
   "id": "67ed5170",
   "metadata": {},
   "outputs": [
    {
     "name": "stdout",
     "output_type": "stream",
     "text": [
      " area of rectangle = 560\n"
     ]
    }
   ],
   "source": [
    "#function definition\n",
    "\n",
    "def area_of_rectangle_function():\n",
    "    a=70\n",
    "    b=8\n",
    "    c=a*b\n",
    "    print(\" area of rectangle =\",c)\n",
    "    \n",
    "#function calling\n",
    "area_of_rectangle_function()"
   ]
  },
  {
   "cell_type": "code",
   "execution_count": 11,
   "id": "85625589",
   "metadata": {},
   "outputs": [],
   "source": [
    "def cricle_area_function():\n",
    "    radius=int(input(\"enter the value of radius\"))\n",
    "    pi=3.14;;.\n",
    "    area=pi*(radius**2)\n",
    "    print(\"the area of circle with radius\",radius,\" =\",area)"
   ]
  },
  {
   "cell_type": "code",
   "execution_count": 12,
   "id": "59f35184",
   "metadata": {},
   "outputs": [
    {
     "name": "stdout",
     "output_type": "stream",
     "text": [
      "enter the value of radius9\n",
      "the area of circle with radius 9  = 254.34\n"
     ]
    }
   ],
   "source": [
    "cricle_area_function()"
   ]
  },
  {
   "cell_type": "code",
   "execution_count": 13,
   "id": "090a4db6",
   "metadata": {},
   "outputs": [],
   "source": [
    "def area_of_rectangle_function():\n",
    "    length=50\n",
    "    breadth=6\n",
    "    area=length*breadth\n",
    "    print(\"area of rectangle =\",area)"
   ]
  },
  {
   "cell_type": "code",
   "execution_count": 14,
   "id": "6765d13f",
   "metadata": {},
   "outputs": [
    {
     "name": "stdout",
     "output_type": "stream",
     "text": [
      "area of rectangle = 300\n"
     ]
    }
   ],
   "source": [
    "area_of_rectangle_function()"
   ]
  },
  {
   "cell_type": "code",
   "execution_count": 15,
   "id": "73ff2cba",
   "metadata": {},
   "outputs": [
    {
     "name": "stdout",
     "output_type": "stream",
     "text": [
      "area of rectangle = 2000\n"
     ]
    }
   ],
   "source": [
    "def area_of_rectangle_function():\n",
    "    length=100\n",
    "    breadth=20\n",
    "    area=length*breadth\n",
    "    print(\"area of rectangle =\",area)\n",
    "    \n",
    "#function calling on the same run line\n",
    "area_of_rectangle_function()"
   ]
  },
  {
   "cell_type": "markdown",
   "id": "691fa072",
   "metadata": {},
   "source": [
    "# function with parameters"
   ]
  },
  {
   "cell_type": "code",
   "execution_count": 16,
   "id": "21a07cac",
   "metadata": {},
   "outputs": [],
   "source": [
    "def addition_funcction_with_parameters(a,b):\n",
    "    c=a+b\n",
    "    print(\"the value =\",c)"
   ]
  },
  {
   "cell_type": "code",
   "execution_count": 18,
   "id": "7b616699",
   "metadata": {},
   "outputs": [
    {
     "ename": "NameError",
     "evalue": "name 'a' is not defined",
     "output_type": "error",
     "traceback": [
      "\u001b[1;31m---------------------------------------------------------------------------\u001b[0m",
      "\u001b[1;31mNameError\u001b[0m                                 Traceback (most recent call last)",
      "\u001b[1;32m<ipython-input-18-b8ea95587cc2>\u001b[0m in \u001b[0;36m<module>\u001b[1;34m\u001b[0m\n\u001b[1;32m----> 1\u001b[1;33m \u001b[0maddition_funcction_with_parameters\u001b[0m\u001b[1;33m(\u001b[0m\u001b[0ma\u001b[0m\u001b[1;33m,\u001b[0m\u001b[0mb\u001b[0m\u001b[1;33m)\u001b[0m\u001b[1;33m\u001b[0m\u001b[1;33m\u001b[0m\u001b[0m\n\u001b[0m",
      "\u001b[1;31mNameError\u001b[0m: name 'a' is not defined"
     ]
    }
   ],
   "source": [
    "addition_funcction_with_parameters(a,b)"
   ]
  },
  {
   "cell_type": "markdown",
   "id": "7950c998",
   "metadata": {},
   "source": [
    "# if not given value than error will show like this"
   ]
  },
  {
   "cell_type": "code",
   "execution_count": 20,
   "id": "6cff0a57",
   "metadata": {},
   "outputs": [
    {
     "name": "stdout",
     "output_type": "stream",
     "text": [
      "the value = 30\n"
     ]
    }
   ],
   "source": [
    "addition_funcction_with_parameters(10,20)"
   ]
  },
  {
   "cell_type": "code",
   "execution_count": 23,
   "id": "a814b8ac",
   "metadata": {},
   "outputs": [],
   "source": [
    "def subtraction_function(x,y):\n",
    "    z=x-y\n",
    "    print(\"the value =\",z)"
   ]
  },
  {
   "cell_type": "code",
   "execution_count": 24,
   "id": "0b2bdef1",
   "metadata": {},
   "outputs": [
    {
     "name": "stdout",
     "output_type": "stream",
     "text": [
      "the value = 50\n"
     ]
    }
   ],
   "source": [
    "subtraction_function(80,30)"
   ]
  },
  {
   "cell_type": "code",
   "execution_count": 25,
   "id": "ad03e0d5",
   "metadata": {},
   "outputs": [],
   "source": [
    "def multiply_function(a,b):\n",
    "    c=a*b\n",
    "    print(\"the value =\",c)\n",
    "    "
   ]
  },
  {
   "cell_type": "code",
   "execution_count": 26,
   "id": "1d849aaf",
   "metadata": {},
   "outputs": [
    {
     "name": "stdout",
     "output_type": "stream",
     "text": [
      "the value = 250\n"
     ]
    }
   ],
   "source": [
    "multiply_function(50,5)"
   ]
  },
  {
   "cell_type": "code",
   "execution_count": 27,
   "id": "2c92d943",
   "metadata": {},
   "outputs": [],
   "source": [
    "#take 3 values and do the add function\n",
    "def addtion_function(a,b,c):\n",
    "    add=a+b+c\n",
    "    print(\"addition =\",add)"
   ]
  },
  {
   "cell_type": "code",
   "execution_count": 28,
   "id": "d8de2e92",
   "metadata": {},
   "outputs": [
    {
     "name": "stdout",
     "output_type": "stream",
     "text": [
      "addition = 60\n"
     ]
    }
   ],
   "source": [
    "addtion_function(10,20,30)"
   ]
  },
  {
   "cell_type": "code",
   "execution_count": 29,
   "id": "f8664d13",
   "metadata": {},
   "outputs": [],
   "source": [
    "def division_function(x,y):\n",
    "    z=x/y\n",
    "    print(\"the value =\",z)"
   ]
  },
  {
   "cell_type": "code",
   "execution_count": 30,
   "id": "f6cd2741",
   "metadata": {},
   "outputs": [
    {
     "name": "stdout",
     "output_type": "stream",
     "text": [
      "the value = 4.0\n"
     ]
    }
   ],
   "source": [
    "division_function(20,5)"
   ]
  },
  {
   "cell_type": "code",
   "execution_count": 7,
   "id": "75b2ffe4",
   "metadata": {},
   "outputs": [],
   "source": [
    "def runfun():\n",
    "    print(\"inside function\")\n",
    "    for i in [1,2,3,4,5,6]:\n",
    "           print(i)"
   ]
  },
  {
   "cell_type": "code",
   "execution_count": 8,
   "id": "e16659cf",
   "metadata": {},
   "outputs": [
    {
     "name": "stdout",
     "output_type": "stream",
     "text": [
      "inside function\n",
      "1\n",
      "2\n",
      "3\n",
      "4\n",
      "5\n",
      "6\n"
     ]
    }
   ],
   "source": [
    "runfun()"
   ]
  },
  {
   "cell_type": "code",
   "execution_count": 9,
   "id": "0091dfd4",
   "metadata": {},
   "outputs": [],
   "source": [
    "#out want in horizontal way \n",
    "def runfun():\n",
    "    print(\"inside function\")\n",
    "    for i in [1,2,3,4,5,6]:\n",
    "           print(i,end =\" \")"
   ]
  },
  {
   "cell_type": "code",
   "execution_count": 10,
   "id": "ae0af55e",
   "metadata": {},
   "outputs": [
    {
     "name": "stdout",
     "output_type": "stream",
     "text": [
      "inside function\n",
      "1 2 3 4 5 6 "
     ]
    }
   ],
   "source": [
    "runfun()"
   ]
  },
  {
   "cell_type": "code",
   "execution_count": 11,
   "id": "6bca8406",
   "metadata": {},
   "outputs": [],
   "source": [
    "def outsidefunction():\n",
    "    print(\"outside function\")\n",
    "    runfun()"
   ]
  },
  {
   "cell_type": "code",
   "execution_count": 12,
   "id": "4444cec0",
   "metadata": {},
   "outputs": [
    {
     "name": "stdout",
     "output_type": "stream",
     "text": [
      "outside function\n",
      "inside function\n",
      "1 2 3 4 5 6 "
     ]
    }
   ],
   "source": [
    "outsidefunction()"
   ]
  },
  {
   "cell_type": "code",
   "execution_count": 14,
   "id": "dd20975f",
   "metadata": {},
   "outputs": [],
   "source": [
    "def addition_function(a,b):\n",
    "    c=a+b\n",
    "    print(\"the value =\",c)"
   ]
  },
  {
   "cell_type": "code",
   "execution_count": 17,
   "id": "e7d1eecb",
   "metadata": {},
   "outputs": [
    {
     "name": "stdout",
     "output_type": "stream",
     "text": [
      "enter value of x50\n",
      "enter value of y100\n",
      "the value = 150\n"
     ]
    }
   ],
   "source": [
    "x=int(input(\"enter value of x\"))\n",
    "y=int(input(\"enter value of y\"))\n",
    "\n",
    "addition_function(x,y)"
   ]
  },
  {
   "cell_type": "code",
   "execution_count": 18,
   "id": "e7697ffd",
   "metadata": {},
   "outputs": [],
   "source": [
    "def addition_function(a,b):\n",
    "    c=a+b\n",
    "    print(\"the value =\",c)"
   ]
  },
  {
   "cell_type": "code",
   "execution_count": 19,
   "id": "604753eb",
   "metadata": {},
   "outputs": [
    {
     "name": "stdout",
     "output_type": "stream",
     "text": [
      "the value = 150\n"
     ]
    }
   ],
   "source": [
    "addition_function(50,100)"
   ]
  },
  {
   "cell_type": "code",
   "execution_count": null,
   "id": "c8d00aa9",
   "metadata": {},
   "outputs": [],
   "source": [
    "s"
   ]
  }
 ],
 "metadata": {
  "kernelspec": {
   "display_name": "Python 3",
   "language": "python",
   "name": "python3"
  },
  "language_info": {
   "codemirror_mode": {
    "name": "ipython",
    "version": 3
   },
   "file_extension": ".py",
   "mimetype": "text/x-python",
   "name": "python",
   "nbconvert_exporter": "python",
   "pygments_lexer": "ipython3",
   "version": "3.8.8"
  }
 },
 "nbformat": 4,
 "nbformat_minor": 5
}
